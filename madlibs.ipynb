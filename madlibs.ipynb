{
 "cells": [
  {
   "cell_type": "code",
   "execution_count": 7,
   "metadata": {},
   "outputs": [
    {
     "name": "stdout",
     "output_type": "stream",
     "text": [
      "In the remote valley a young boy was travelling to the spring to collect his water supply, when suddenly he saw a large bear on the other side of the hill. He froze for a few seconds locking eyes with the predator then immediately turned around and ran back home\n"
     ]
    }
   ],
   "source": [
    "def mad_lib():\n",
    "    noun = input(\"Please enter a singular noun: \")\n",
    "    adjective = input(\"Please input an adjective: \")\n",
    "    location = input(\"Please enter a location: \")\n",
    "    return noun, adjective, location\n",
    "\n",
    "noun, adjective, location = mad_lib()\n",
    "story = f\"In the remote {location} a young {noun} was travelling to the spring to collect his water supply, when suddenly he saw a {adjective} bear on the other side of the hill. He froze for a few seconds locking eyes with the predator then immediately turned around and ran back home\"\n",
    "print(story)\n"
   ]
  }
 ],
 "metadata": {
  "kernelspec": {
   "display_name": "Python 3",
   "language": "python",
   "name": "python3"
  },
  "language_info": {
   "codemirror_mode": {
    "name": "ipython",
    "version": 3
   },
   "file_extension": ".py",
   "mimetype": "text/x-python",
   "name": "python",
   "nbconvert_exporter": "python",
   "pygments_lexer": "ipython3",
   "version": "3.10.9"
  },
  "orig_nbformat": 4,
  "vscode": {
   "interpreter": {
    "hash": "47e11fd96469cad8fe73d014b87081821b70e8339ca847bccea2690019d2cb0b"
   }
  }
 },
 "nbformat": 4,
 "nbformat_minor": 2
}
